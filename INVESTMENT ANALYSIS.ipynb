{
 "cells": [
  {
   "cell_type": "markdown",
   "id": "b313a772",
   "metadata": {},
   "source": [
    "# INVESTMENT ANALYSIS"
   ]
  },
  {
   "cell_type": "code",
   "execution_count": 1,
   "id": "b46ba79d",
   "metadata": {},
   "outputs": [],
   "source": [
    "import pandas as pd\n",
    "import numpy as np\n",
    "import matplotlib.pyplot as plt\n",
    "import seaborn as sns"
   ]
  },
  {
   "cell_type": "markdown",
   "id": "e7a10fad",
   "metadata": {},
   "source": [
    "## LOADING THE DATA"
   ]
  },
  {
   "cell_type": "code",
   "execution_count": 2,
   "id": "f96a5948",
   "metadata": {},
   "outputs": [],
   "source": [
    "df = pd.read_csv(r\"C:\\Users\\vijay\\OneDrive\\Desktop\\finance data analysis\\Finance_data.csv\")"
   ]
  },
  {
   "cell_type": "code",
   "execution_count": 3,
   "id": "373881e8",
   "metadata": {},
   "outputs": [
    {
     "data": {
      "text/html": [
       "<div>\n",
       "<style scoped>\n",
       "    .dataframe tbody tr th:only-of-type {\n",
       "        vertical-align: middle;\n",
       "    }\n",
       "\n",
       "    .dataframe tbody tr th {\n",
       "        vertical-align: top;\n",
       "    }\n",
       "\n",
       "    .dataframe thead th {\n",
       "        text-align: right;\n",
       "    }\n",
       "</style>\n",
       "<table border=\"1\" class=\"dataframe\">\n",
       "  <thead>\n",
       "    <tr style=\"text-align: right;\">\n",
       "      <th></th>\n",
       "      <th>gender</th>\n",
       "      <th>age</th>\n",
       "      <th>Investment_Avenues</th>\n",
       "      <th>Mutual_Funds</th>\n",
       "      <th>Equity_Market</th>\n",
       "      <th>Debentures</th>\n",
       "      <th>Government_Bonds</th>\n",
       "      <th>Fixed_Deposits</th>\n",
       "      <th>PPF</th>\n",
       "      <th>Gold</th>\n",
       "      <th>...</th>\n",
       "      <th>Duration</th>\n",
       "      <th>Invest_Monitor</th>\n",
       "      <th>Expect</th>\n",
       "      <th>Avenue</th>\n",
       "      <th>What are your savings objectives?</th>\n",
       "      <th>Reason_Equity</th>\n",
       "      <th>Reason_Mutual</th>\n",
       "      <th>Reason_Bonds</th>\n",
       "      <th>Reason_FD</th>\n",
       "      <th>Source</th>\n",
       "    </tr>\n",
       "  </thead>\n",
       "  <tbody>\n",
       "    <tr>\n",
       "      <th>0</th>\n",
       "      <td>Female</td>\n",
       "      <td>34</td>\n",
       "      <td>Yes</td>\n",
       "      <td>1</td>\n",
       "      <td>2</td>\n",
       "      <td>5</td>\n",
       "      <td>3</td>\n",
       "      <td>7</td>\n",
       "      <td>6</td>\n",
       "      <td>4</td>\n",
       "      <td>...</td>\n",
       "      <td>1-3 years</td>\n",
       "      <td>Monthly</td>\n",
       "      <td>20%-30%</td>\n",
       "      <td>Mutual Fund</td>\n",
       "      <td>Retirement Plan</td>\n",
       "      <td>Capital Appreciation</td>\n",
       "      <td>Better Returns</td>\n",
       "      <td>Safe Investment</td>\n",
       "      <td>Fixed Returns</td>\n",
       "      <td>Newspapers and Magazines</td>\n",
       "    </tr>\n",
       "    <tr>\n",
       "      <th>1</th>\n",
       "      <td>Female</td>\n",
       "      <td>23</td>\n",
       "      <td>Yes</td>\n",
       "      <td>4</td>\n",
       "      <td>3</td>\n",
       "      <td>2</td>\n",
       "      <td>1</td>\n",
       "      <td>5</td>\n",
       "      <td>6</td>\n",
       "      <td>7</td>\n",
       "      <td>...</td>\n",
       "      <td>More than 5 years</td>\n",
       "      <td>Weekly</td>\n",
       "      <td>20%-30%</td>\n",
       "      <td>Mutual Fund</td>\n",
       "      <td>Health Care</td>\n",
       "      <td>Dividend</td>\n",
       "      <td>Better Returns</td>\n",
       "      <td>Safe Investment</td>\n",
       "      <td>High Interest Rates</td>\n",
       "      <td>Financial Consultants</td>\n",
       "    </tr>\n",
       "    <tr>\n",
       "      <th>2</th>\n",
       "      <td>Male</td>\n",
       "      <td>30</td>\n",
       "      <td>Yes</td>\n",
       "      <td>3</td>\n",
       "      <td>6</td>\n",
       "      <td>4</td>\n",
       "      <td>2</td>\n",
       "      <td>5</td>\n",
       "      <td>1</td>\n",
       "      <td>7</td>\n",
       "      <td>...</td>\n",
       "      <td>3-5 years</td>\n",
       "      <td>Daily</td>\n",
       "      <td>20%-30%</td>\n",
       "      <td>Equity</td>\n",
       "      <td>Retirement Plan</td>\n",
       "      <td>Capital Appreciation</td>\n",
       "      <td>Tax Benefits</td>\n",
       "      <td>Assured Returns</td>\n",
       "      <td>Fixed Returns</td>\n",
       "      <td>Television</td>\n",
       "    </tr>\n",
       "    <tr>\n",
       "      <th>3</th>\n",
       "      <td>Male</td>\n",
       "      <td>22</td>\n",
       "      <td>Yes</td>\n",
       "      <td>2</td>\n",
       "      <td>1</td>\n",
       "      <td>3</td>\n",
       "      <td>7</td>\n",
       "      <td>6</td>\n",
       "      <td>4</td>\n",
       "      <td>5</td>\n",
       "      <td>...</td>\n",
       "      <td>Less than 1 year</td>\n",
       "      <td>Daily</td>\n",
       "      <td>10%-20%</td>\n",
       "      <td>Equity</td>\n",
       "      <td>Retirement Plan</td>\n",
       "      <td>Dividend</td>\n",
       "      <td>Fund Diversification</td>\n",
       "      <td>Tax Incentives</td>\n",
       "      <td>High Interest Rates</td>\n",
       "      <td>Internet</td>\n",
       "    </tr>\n",
       "    <tr>\n",
       "      <th>4</th>\n",
       "      <td>Female</td>\n",
       "      <td>24</td>\n",
       "      <td>No</td>\n",
       "      <td>2</td>\n",
       "      <td>1</td>\n",
       "      <td>3</td>\n",
       "      <td>6</td>\n",
       "      <td>4</td>\n",
       "      <td>5</td>\n",
       "      <td>7</td>\n",
       "      <td>...</td>\n",
       "      <td>Less than 1 year</td>\n",
       "      <td>Daily</td>\n",
       "      <td>20%-30%</td>\n",
       "      <td>Equity</td>\n",
       "      <td>Retirement Plan</td>\n",
       "      <td>Capital Appreciation</td>\n",
       "      <td>Better Returns</td>\n",
       "      <td>Safe Investment</td>\n",
       "      <td>Risk Free</td>\n",
       "      <td>Internet</td>\n",
       "    </tr>\n",
       "  </tbody>\n",
       "</table>\n",
       "<p>5 rows × 24 columns</p>\n",
       "</div>"
      ],
      "text/plain": [
       "   gender  age Investment_Avenues  Mutual_Funds  Equity_Market  Debentures  \\\n",
       "0  Female   34                Yes             1              2           5   \n",
       "1  Female   23                Yes             4              3           2   \n",
       "2    Male   30                Yes             3              6           4   \n",
       "3    Male   22                Yes             2              1           3   \n",
       "4  Female   24                 No             2              1           3   \n",
       "\n",
       "   Government_Bonds  Fixed_Deposits  PPF  Gold  ...           Duration  \\\n",
       "0                 3               7    6     4  ...          1-3 years   \n",
       "1                 1               5    6     7  ...  More than 5 years   \n",
       "2                 2               5    1     7  ...          3-5 years   \n",
       "3                 7               6    4     5  ...   Less than 1 year   \n",
       "4                 6               4    5     7  ...   Less than 1 year   \n",
       "\n",
       "  Invest_Monitor   Expect       Avenue What are your savings objectives?  \\\n",
       "0        Monthly  20%-30%  Mutual Fund                   Retirement Plan   \n",
       "1         Weekly  20%-30%  Mutual Fund                       Health Care   \n",
       "2          Daily  20%-30%       Equity                   Retirement Plan   \n",
       "3          Daily  10%-20%       Equity                   Retirement Plan   \n",
       "4          Daily  20%-30%       Equity                   Retirement Plan   \n",
       "\n",
       "          Reason_Equity         Reason_Mutual     Reason_Bonds  \\\n",
       "0  Capital Appreciation        Better Returns  Safe Investment   \n",
       "1              Dividend        Better Returns  Safe Investment   \n",
       "2  Capital Appreciation          Tax Benefits  Assured Returns   \n",
       "3              Dividend  Fund Diversification   Tax Incentives   \n",
       "4  Capital Appreciation        Better Returns  Safe Investment   \n",
       "\n",
       "             Reason_FD                    Source  \n",
       "0        Fixed Returns  Newspapers and Magazines  \n",
       "1  High Interest Rates     Financial Consultants  \n",
       "2        Fixed Returns                Television  \n",
       "3  High Interest Rates                  Internet  \n",
       "4            Risk Free                  Internet  \n",
       "\n",
       "[5 rows x 24 columns]"
      ]
     },
     "execution_count": 3,
     "metadata": {},
     "output_type": "execute_result"
    }
   ],
   "source": [
    "df.head()"
   ]
  },
  {
   "cell_type": "code",
   "execution_count": 4,
   "id": "e3066fc6",
   "metadata": {},
   "outputs": [
    {
     "data": {
      "text/plain": [
       "(40, 24)"
      ]
     },
     "execution_count": 4,
     "metadata": {},
     "output_type": "execute_result"
    }
   ],
   "source": [
    "df.shape"
   ]
  },
  {
   "cell_type": "code",
   "execution_count": 5,
   "id": "5c948efd",
   "metadata": {},
   "outputs": [
    {
     "data": {
      "text/plain": [
       "gender                               object\n",
       "age                                   int64\n",
       "Investment_Avenues                   object\n",
       "Mutual_Funds                          int64\n",
       "Equity_Market                         int64\n",
       "Debentures                            int64\n",
       "Government_Bonds                      int64\n",
       "Fixed_Deposits                        int64\n",
       "PPF                                   int64\n",
       "Gold                                  int64\n",
       "Stock_Marktet                        object\n",
       "Factor                               object\n",
       "Objective                            object\n",
       "Purpose                              object\n",
       "Duration                             object\n",
       "Invest_Monitor                       object\n",
       "Expect                               object\n",
       "Avenue                               object\n",
       "What are your savings objectives?    object\n",
       "Reason_Equity                        object\n",
       "Reason_Mutual                        object\n",
       "Reason_Bonds                         object\n",
       "Reason_FD                            object\n",
       "Source                               object\n",
       "dtype: object"
      ]
     },
     "execution_count": 5,
     "metadata": {},
     "output_type": "execute_result"
    }
   ],
   "source": [
    "df.dtypes"
   ]
  },
  {
   "cell_type": "code",
   "execution_count": 8,
   "id": "e3d73827",
   "metadata": {},
   "outputs": [],
   "source": [
    "sns.set_style('darkgrid')"
   ]
  },
  {
   "cell_type": "code",
   "execution_count": 9,
   "id": "71546972",
   "metadata": {},
   "outputs": [],
   "source": [
    "new_df = df"
   ]
  },
  {
   "cell_type": "markdown",
   "id": "aa4c9710",
   "metadata": {},
   "source": [
    "## Dropping unnecessary columns"
   ]
  },
  {
   "cell_type": "code",
   "execution_count": 10,
   "id": "41b496d5",
   "metadata": {},
   "outputs": [],
   "source": [
    "new_df.drop(['Mutual_Funds', 'Equity_Market', 'Debentures', 'Government_Bonds', 'Fixed_Deposits', 'PPF', 'Gold'], axis =1, inplace = True)        \n",
    "            "
   ]
  },
  {
   "cell_type": "code",
   "execution_count": 11,
   "id": "dec789ba",
   "metadata": {},
   "outputs": [
    {
     "data": {
      "text/html": [
       "<div>\n",
       "<style scoped>\n",
       "    .dataframe tbody tr th:only-of-type {\n",
       "        vertical-align: middle;\n",
       "    }\n",
       "\n",
       "    .dataframe tbody tr th {\n",
       "        vertical-align: top;\n",
       "    }\n",
       "\n",
       "    .dataframe thead th {\n",
       "        text-align: right;\n",
       "    }\n",
       "</style>\n",
       "<table border=\"1\" class=\"dataframe\">\n",
       "  <thead>\n",
       "    <tr style=\"text-align: right;\">\n",
       "      <th></th>\n",
       "      <th>gender</th>\n",
       "      <th>age</th>\n",
       "      <th>Investment_Avenues</th>\n",
       "      <th>Stock_Marktet</th>\n",
       "      <th>Factor</th>\n",
       "      <th>Objective</th>\n",
       "      <th>Purpose</th>\n",
       "      <th>Duration</th>\n",
       "      <th>Invest_Monitor</th>\n",
       "      <th>Expect</th>\n",
       "      <th>Avenue</th>\n",
       "      <th>What are your savings objectives?</th>\n",
       "      <th>Reason_Equity</th>\n",
       "      <th>Reason_Mutual</th>\n",
       "      <th>Reason_Bonds</th>\n",
       "      <th>Reason_FD</th>\n",
       "      <th>Source</th>\n",
       "    </tr>\n",
       "  </thead>\n",
       "  <tbody>\n",
       "    <tr>\n",
       "      <th>0</th>\n",
       "      <td>Female</td>\n",
       "      <td>34</td>\n",
       "      <td>Yes</td>\n",
       "      <td>Yes</td>\n",
       "      <td>Returns</td>\n",
       "      <td>Capital Appreciation</td>\n",
       "      <td>Wealth Creation</td>\n",
       "      <td>1-3 years</td>\n",
       "      <td>Monthly</td>\n",
       "      <td>20%-30%</td>\n",
       "      <td>Mutual Fund</td>\n",
       "      <td>Retirement Plan</td>\n",
       "      <td>Capital Appreciation</td>\n",
       "      <td>Better Returns</td>\n",
       "      <td>Safe Investment</td>\n",
       "      <td>Fixed Returns</td>\n",
       "      <td>Newspapers and Magazines</td>\n",
       "    </tr>\n",
       "    <tr>\n",
       "      <th>1</th>\n",
       "      <td>Female</td>\n",
       "      <td>23</td>\n",
       "      <td>Yes</td>\n",
       "      <td>No</td>\n",
       "      <td>Locking Period</td>\n",
       "      <td>Capital Appreciation</td>\n",
       "      <td>Wealth Creation</td>\n",
       "      <td>More than 5 years</td>\n",
       "      <td>Weekly</td>\n",
       "      <td>20%-30%</td>\n",
       "      <td>Mutual Fund</td>\n",
       "      <td>Health Care</td>\n",
       "      <td>Dividend</td>\n",
       "      <td>Better Returns</td>\n",
       "      <td>Safe Investment</td>\n",
       "      <td>High Interest Rates</td>\n",
       "      <td>Financial Consultants</td>\n",
       "    </tr>\n",
       "    <tr>\n",
       "      <th>2</th>\n",
       "      <td>Male</td>\n",
       "      <td>30</td>\n",
       "      <td>Yes</td>\n",
       "      <td>Yes</td>\n",
       "      <td>Returns</td>\n",
       "      <td>Capital Appreciation</td>\n",
       "      <td>Wealth Creation</td>\n",
       "      <td>3-5 years</td>\n",
       "      <td>Daily</td>\n",
       "      <td>20%-30%</td>\n",
       "      <td>Equity</td>\n",
       "      <td>Retirement Plan</td>\n",
       "      <td>Capital Appreciation</td>\n",
       "      <td>Tax Benefits</td>\n",
       "      <td>Assured Returns</td>\n",
       "      <td>Fixed Returns</td>\n",
       "      <td>Television</td>\n",
       "    </tr>\n",
       "    <tr>\n",
       "      <th>3</th>\n",
       "      <td>Male</td>\n",
       "      <td>22</td>\n",
       "      <td>Yes</td>\n",
       "      <td>Yes</td>\n",
       "      <td>Returns</td>\n",
       "      <td>Income</td>\n",
       "      <td>Wealth Creation</td>\n",
       "      <td>Less than 1 year</td>\n",
       "      <td>Daily</td>\n",
       "      <td>10%-20%</td>\n",
       "      <td>Equity</td>\n",
       "      <td>Retirement Plan</td>\n",
       "      <td>Dividend</td>\n",
       "      <td>Fund Diversification</td>\n",
       "      <td>Tax Incentives</td>\n",
       "      <td>High Interest Rates</td>\n",
       "      <td>Internet</td>\n",
       "    </tr>\n",
       "    <tr>\n",
       "      <th>4</th>\n",
       "      <td>Female</td>\n",
       "      <td>24</td>\n",
       "      <td>No</td>\n",
       "      <td>No</td>\n",
       "      <td>Returns</td>\n",
       "      <td>Income</td>\n",
       "      <td>Wealth Creation</td>\n",
       "      <td>Less than 1 year</td>\n",
       "      <td>Daily</td>\n",
       "      <td>20%-30%</td>\n",
       "      <td>Equity</td>\n",
       "      <td>Retirement Plan</td>\n",
       "      <td>Capital Appreciation</td>\n",
       "      <td>Better Returns</td>\n",
       "      <td>Safe Investment</td>\n",
       "      <td>Risk Free</td>\n",
       "      <td>Internet</td>\n",
       "    </tr>\n",
       "  </tbody>\n",
       "</table>\n",
       "</div>"
      ],
      "text/plain": [
       "   gender  age Investment_Avenues Stock_Marktet          Factor  \\\n",
       "0  Female   34                Yes           Yes         Returns   \n",
       "1  Female   23                Yes            No  Locking Period   \n",
       "2    Male   30                Yes           Yes         Returns   \n",
       "3    Male   22                Yes           Yes         Returns   \n",
       "4  Female   24                 No            No         Returns   \n",
       "\n",
       "              Objective          Purpose           Duration Invest_Monitor  \\\n",
       "0  Capital Appreciation  Wealth Creation          1-3 years        Monthly   \n",
       "1  Capital Appreciation  Wealth Creation  More than 5 years         Weekly   \n",
       "2  Capital Appreciation  Wealth Creation          3-5 years          Daily   \n",
       "3                Income  Wealth Creation   Less than 1 year          Daily   \n",
       "4                Income  Wealth Creation   Less than 1 year          Daily   \n",
       "\n",
       "    Expect       Avenue What are your savings objectives?  \\\n",
       "0  20%-30%  Mutual Fund                   Retirement Plan   \n",
       "1  20%-30%  Mutual Fund                       Health Care   \n",
       "2  20%-30%       Equity                   Retirement Plan   \n",
       "3  10%-20%       Equity                   Retirement Plan   \n",
       "4  20%-30%       Equity                   Retirement Plan   \n",
       "\n",
       "          Reason_Equity         Reason_Mutual     Reason_Bonds  \\\n",
       "0  Capital Appreciation        Better Returns  Safe Investment   \n",
       "1              Dividend        Better Returns  Safe Investment   \n",
       "2  Capital Appreciation          Tax Benefits  Assured Returns   \n",
       "3              Dividend  Fund Diversification   Tax Incentives   \n",
       "4  Capital Appreciation        Better Returns  Safe Investment   \n",
       "\n",
       "             Reason_FD                    Source  \n",
       "0        Fixed Returns  Newspapers and Magazines  \n",
       "1  High Interest Rates     Financial Consultants  \n",
       "2        Fixed Returns                Television  \n",
       "3  High Interest Rates                  Internet  \n",
       "4            Risk Free                  Internet  "
      ]
     },
     "execution_count": 11,
     "metadata": {},
     "output_type": "execute_result"
    }
   ],
   "source": [
    "new_df.head()"
   ]
  },
  {
   "cell_type": "markdown",
   "id": "c70357de",
   "metadata": {},
   "source": [
    "## Replacing wierd data entries with nan"
   ]
  },
  {
   "cell_type": "code",
   "execution_count": 12,
   "id": "b4cc0ead",
   "metadata": {},
   "outputs": [],
   "source": [
    "new_df = new_df.replace(r'^&*$', np.nan, regex = True)"
   ]
  },
  {
   "cell_type": "markdown",
   "id": "147f4f8b",
   "metadata": {},
   "source": [
    "## 1) Distribution of Gender doing investments"
   ]
  },
  {
   "cell_type": "code",
   "execution_count": 13,
   "id": "1be88195",
   "metadata": {
    "scrolled": false
   },
   "outputs": [
    {
     "data": {
      "image/png": "[encoded data removed]",
      "text/plain": [
       "<Figure size 432x288 with 1 Axes>"
      ]
     },
     "metadata": {},
     "output_type": "display_data"
    }
   ],
   "source": [
    "sns.countplot(x ='gender', data= new_df, linewidth = 2, palette = \"Set2\", edgecolor = \"black\")\n",
    "plt.show()"
   ]
  },
  {
   "cell_type": "markdown",
   "id": "788f5dc7",
   "metadata": {},
   "source": [
    "### Result- we can see there are more male investors"
   ]
  },
  {
   "cell_type": "markdown",
   "id": "f0825e9b",
   "metadata": {},
   "source": [
    "## 2) Amount of people investing in different age groups"
   ]
  },
  {
   "cell_type": "code",
   "execution_count": 14,
   "id": "e588bded",
   "metadata": {
    "scrolled": false
   },
   "outputs": [
    {
     "data": {
      "image/png": "[encoded data removed]",
      "text/plain": [
       "<Figure size 432x288 with 1 Axes>"
      ]
     },
     "metadata": {},
     "output_type": "display_data"
    }
   ],
   "source": [
    "sns.countplot(x ='age', data= new_df, linewidth = 3, palette= \"Set2\", edgecolor= \"black\")\n",
    "plt.show()"
   ]
  },
  {
   "cell_type": "markdown",
   "id": "95793615",
   "metadata": {},
   "source": [
    "### Result - We can see that 27 is a age where we have multiple investors"
   ]
  },
  {
   "cell_type": "markdown",
   "id": "9fb15c6d",
   "metadata": {},
   "source": [
    "## 3) Count of different genders contributing to Investment Avenues and Stock Market"
   ]
  },
  {
   "cell_type": "code",
   "execution_count": 15,
   "id": "057d951f",
   "metadata": {
    "scrolled": true
   },
   "outputs": [
    {
     "data": {
      "image/png": "[encoded data removed]",
      "text/plain": [
       "<Figure size 1296x432 with 2 Axes>"
      ]
     },
     "metadata": {},
     "output_type": "display_data"
    }
   ],
   "source": [
    "plt.figure(figsize = (18,6))\n",
    "plt.subplot (1,2,1)\n",
    "sns.countplot(x =new_df[\"gender\"], data =new_df[\"Investment_Avenues\"] , linewidth= 3, palette = \"summer\", edgecolor= \"black\")\n",
    "plt.title(\"Investment Avenue\")\n",
    "\n",
    "plt.subplot(1, 2, 2)\n",
    "sns.countplot(x= new_df[\"gender\"], data = df[\"Stock_Marktet\"], linewidth =3, palette = \"hot\", edgecolor= \"black\")\n",
    "plt.title(\"Stock Market\")\n",
    "\n",
    "plt.show()"
   ]
  },
  {
   "cell_type": "markdown",
   "id": "d84cf911",
   "metadata": {},
   "source": [
    "### Result- We can see that in both ivestment avenues and stock market male's have more contribution"
   ]
  },
  {
   "cell_type": "markdown",
   "id": "2c179b73",
   "metadata": {},
   "source": [
    "## 4) Count of people investing due to different factors"
   ]
  },
  {
   "cell_type": "code",
   "execution_count": 16,
   "id": "de310b31",
   "metadata": {
    "scrolled": false
   },
   "outputs": [
    {
     "data": {
      "image/png": "[encoded data removed]",
      "text/plain": [
       "<Figure size 432x288 with 1 Axes>"
      ]
     },
     "metadata": {},
     "output_type": "display_data"
    }
   ],
   "source": [
    "sns.countplot(x= new_df[\"Factor\"], linewidth= 3, palette = \"coolwarm\", edgecolor= \"black\")\n",
    "plt.show()"
   ]
  },
  {
   "cell_type": "markdown",
   "id": "8339125c",
   "metadata": {},
   "source": [
    "### Result - We can see that mostly people invest depending on High returns"
   ]
  },
  {
   "cell_type": "markdown",
   "id": "ac6cb6e3",
   "metadata": {},
   "source": [
    "## 5) Representation of different age groups and thieir purpose of investing"
   ]
  },
  {
   "cell_type": "code",
   "execution_count": 17,
   "id": "c8241efb",
   "metadata": {
    "scrolled": false
   },
   "outputs": [
    {
     "data": {
      "text/plain": [
       "<function matplotlib.pyplot.show(close=None, block=None)>"
      ]
     },
     "execution_count": 17,
     "metadata": {},
     "output_type": "execute_result"
    },
    {
     "data": {
      "image/png": "[encoded data removed]",
      "text/plain": [
       "<Figure size 1296x432 with 1 Axes>"
      ]
     },
     "metadata": {},
     "output_type": "display_data"
    }
   ],
   "source": [
    "plt.figure(figsize=(18,6))\n",
    "sns.pointplot(x = \"Purpose\", y=\"age\", data = new_df, linestyles = \"--\", capsize= .3, color=\"Red\" )\n",
    "plt.show"
   ]
  },
  {
   "cell_type": "markdown",
   "id": "1674cd3f",
   "metadata": {},
   "source": [
    "### Result - We can see that people in later twenties mostly into wealth creation and returns and people in thier 30's are more intrested in saving's for the future ."
   ]
  },
  {
   "cell_type": "markdown",
   "id": "5691afbb",
   "metadata": {},
   "source": [
    "## 2 plots representing duration of investment and montoring of investment by both Male and Female"
   ]
  },
  {
   "cell_type": "code",
   "execution_count": 18,
   "id": "d839355f",
   "metadata": {},
   "outputs": [
    {
     "data": {
      "image/png": "[encoded data removed]",
      "text/plain": [
       "<Figure size 1296x432 with 2 Axes>"
      ]
     },
     "metadata": {},
     "output_type": "display_data"
    }
   ],
   "source": [
    "plt.figure(figsize= (18,6))\n",
    "plt.subplot(1,2,1)\n",
    "sns.countplot(x= \"Duration\", hue = \"gender\", data= new_df,linewidth= 3, palette = \"viridis\", edgecolor = \"black\")\n",
    "plt.title(\"DURATION\")\n",
    "\n",
    "plt.subplot(1,2,2)\n",
    "sns.countplot(x= \"Invest_Monitor\", hue = \"gender\", data= new_df,linewidth= 3, palette = \"seismic\", edgecolor = \"black\")\n",
    "plt.title(\"INVESTMENT MONITOR\")\n",
    "\n",
    "plt.show()\n"
   ]
  },
  {
   "cell_type": "code",
   "execution_count": null,
   "id": "196720c5",
   "metadata": {},
   "outputs": [],
   "source": []
  }
 ],
 "metadata": {
  "kernelspec": {
   "display_name": "Python 3 (ipykernel)",
   "language": "python",
   "name": "python3"
  },
  "language_info": {
   "codemirror_mode": {
    "name": "ipython",
    "version": 3
   },
   "file_extension": ".py",
   "mimetype": "text/x-python",
   "name": "python",
   "nbconvert_exporter": "python",
   "pygments_lexer": "ipython3",
   "version": "3.9.12"
  }
 },
 "nbformat": 4,
 "nbformat_minor": 5
}
